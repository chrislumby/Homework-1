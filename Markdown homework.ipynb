{
 "cells": [
  {
   "cell_type": "code",
   "execution_count": null,
   "metadata": {
    "collapsed": true
   },
   "outputs": [],
   "source": [
    "Hilary Mason - expertise in demand by the VC brigade\n",
    "====================================================\n",
    "\n",
    ">When the VC crew began hiring data scientists like Hilary Mason, to help them make investment decisions and guide their portfolio companies, data science as a profession took on a whole new meaning.\n",
    "\n",
    "The data scientist in residence at Accel\n",
    "----------------------------------------\n",
    ">Hilary does three things. She helps:\n",
    "1. Investment partners with interesting technology or a company\n",
    "2. Accel portfolio companies with interesting or challenging data questions\n",
    "3. Accel think what the next generation of data companies might look like\n",
    "\n",
    "Does she expect VC firms to continue to hire data scientists in residence?\n",
    "--------------------------------------------------------------------------\n",
    ">Yes.\n",
    ">>“Having people with even a just a few years of expertise in doing that is valuable.” \n",
    ">Providing data science expertise to portfolio companies is really valuable and a hard skill to come by.\n",
    "\n",
    "And her views on data science\n",
    "--------------------------------\n",
    ">Data scientists are different, >>data scientists will keep asking the questions>>. They are the people who truely understand the problem to solve.\n",
    "As a community we must respect the data and at the same time create a story that is >>compelling and exciting>> for the audience. Its a skill that is often overlooked.\n",
    ">Soft skills like empathy are important. People who hire these skills are often not data boffins and it is so important to translate the data into something they can understand. Here _visualisation is key_. It turns your data to life and makes it useable for a wider audience.\n",
    "\n",
    "And for those thinking of a data science career\n",
    "-----------------------------------------------\n",
    ">Do a project that interests you and publish it. Show people what you can do."
   ]
  }
 ],
 "metadata": {
  "kernelspec": {
   "display_name": "Python 2",
   "language": "python",
   "name": "python2"
  },
  "language_info": {
   "codemirror_mode": {
    "name": "ipython",
    "version": 2
   },
   "file_extension": ".py",
   "mimetype": "text/x-python",
   "name": "python",
   "nbconvert_exporter": "python",
   "pygments_lexer": "ipython2",
   "version": "2.7.13"
  }
 },
 "nbformat": 4,
 "nbformat_minor": 2
}
