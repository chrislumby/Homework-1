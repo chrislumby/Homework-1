{
 "cells": [
  {
   "cell_type": "code",
   "execution_count": 1,
   "metadata": {
    "collapsed": false
   },
   "outputs": [
    {
     "ename": "SyntaxError",
     "evalue": "invalid syntax (<ipython-input-1-9b27313cd2d9>, line 3)",
     "output_type": "error",
     "traceback": [
      "\u001b[0;36m  File \u001b[0;32m\"<ipython-input-1-9b27313cd2d9>\"\u001b[0;36m, line \u001b[0;32m3\u001b[0m\n\u001b[0;31m    For Lost Super, find out\u001b[0m\n\u001b[0m           ^\u001b[0m\n\u001b[0;31mSyntaxError\u001b[0m\u001b[0;31m:\u001b[0m invalid syntax\n"
     ]
    }
   ],
   "source": [
    "# Number 1 - Lost Super\n",
    "# Overview of your idea \n",
    "For Lost Super, find out \n",
    "what geogrpahies in Australia have the most lost super in $, \n",
    "relative to income,\n",
    "type of workers such as professional v blue collar,\n",
    "when targeted, which groups are most liekly to respond\n",
    "# What data you will use, and how you will collect it\n",
    "ATO lost super data\n",
    "ABS income statistics\n",
    "ABS profession/work type data\n",
    "Westpac marketing data\n",
    "# What the outcome is that you are trying to achieve\n",
    "Find out groups to target by geogrpahy/postcode and profession\n",
    "based on absolute $\n",
    "based on meaninfullness of $ in a relative sense to income\n",
    "#Any ideas of modelling techniques it may involve\n",
    "Linear regression and other techniques I'm yet to explore"
   ]
  },
  {
   "cell_type": "code",
   "execution_count": 2,
   "metadata": {
    "collapsed": false
   },
   "outputs": [
    {
     "ename": "SyntaxError",
     "evalue": "invalid syntax (<ipython-input-2-bac802bc077c>, line 3)",
     "output_type": "error",
     "traceback": [
      "\u001b[0;36m  File \u001b[0;32m\"<ipython-input-2-bac802bc077c>\"\u001b[0;36m, line \u001b[0;32m3\u001b[0m\n\u001b[0;31m    Understand the absolute and marginal contribution a BDM in my team adds.\u001b[0m\n\u001b[0m                 ^\u001b[0m\n\u001b[0;31mSyntaxError\u001b[0m\u001b[0;31m:\u001b[0m invalid syntax\n"
     ]
    }
   ],
   "source": [
    "# Number 2 - BDM effectiviness\n",
    "# Overview of your idea \n",
    "Understand the absolute and marginal contribution a BDM in my team adds. \n",
    "What is the benefit of adding additonal BDM resources?\n",
    "If we had no BDMs, what level of sales would be acheieve\n",
    "What is the marginal utility of each additonal BDM\n",
    "What financial value does a BDM add at each marginal point and how many BDMs until no marginal financial benefit\n",
    "# What data you will use, and how you will collect it\n",
    "Sales per BDM - from Westpac\n",
    "Sales in areas / geographies with no BDMs - from Westpac\n",
    "Cross sell opportunity set - branches, FTE, customer conversations - from Westpac\n",
    "Cost of BDMs - my knowledge\n",
    "# What the outcome is that you are trying to achieve\n",
    "make business decisions on the allocation of investment towards BDM resourcing\n",
    "#Any ideas of modelling techniques it may involve\n",
    "Linear regression and other techniques I'm yet to explore"
   ]
  },
  {
   "cell_type": "code",
   "execution_count": 3,
   "metadata": {
    "collapsed": false
   },
   "outputs": [
    {
     "ename": "SyntaxError",
     "evalue": "invalid syntax (<ipython-input-3-9197c7fad74a>, line 3)",
     "output_type": "error",
     "traceback": [
      "\u001b[0;36m  File \u001b[0;32m\"<ipython-input-3-9197c7fad74a>\"\u001b[0;36m, line \u001b[0;32m3\u001b[0m\n\u001b[0;31m    Understand which campaigns are most effective when concurrent campaigns are being run\u001b[0m\n\u001b[0m                   ^\u001b[0m\n\u001b[0;31mSyntaxError\u001b[0m\u001b[0;31m:\u001b[0m invalid syntax\n"
     ]
    }
   ],
   "source": [
    "# Number 3 - campaign effectiveness\n",
    "# Overview of your idea \n",
    "Understand which campaigns are most effective when concurrent campaigns are being run\n",
    "When we run banker and customer camapigns at the same time, understand which campaigns contribute what outcomes \n",
    "And the impact from running concurrent campaigns as opposed to indivual cmapaigns\n",
    "# What data you will use, and how you will collect it\n",
    "Marketing data from Super June campaign\n",
    "Banker data from Super June campaign\n",
    "Customer sales by channel - banker (physical) v digital and call centre\n",
    "Response and click through rates from customer campaign\n",
    "Response rate (sales) from banker campaign\n",
    "All data from westpac\n",
    "# What the outcome is that you are trying to achieve\n",
    "make business decision on best use of campaign budgets and inter effect of running concurrent campaigns\n",
    "#Any ideas of modelling techniques it may involve\n",
    "Linear regression and other techniques I'm yet to explore"
   ]
  },
  {
   "cell_type": "code",
   "execution_count": null,
   "metadata": {
    "collapsed": true
   },
   "outputs": [],
   "source": [
    "# Number 4 - what are the key drivers of sales\n",
    "# Overview of your idea \n",
    "Understand what really drives sales outcomes in Westpac for secondary need wealth products\n",
    "Each of the following play a role, but which ae the key drivers - leadership, share of voice, scorecards, \n",
    "BDM activity/resourcing, campaigns, product or price\n",
    "# What data you will use, and how you will collect it\n",
    "Sales data of wealth products\n",
    "BDM activity register\n",
    "The others will require me to make a judgement call on levels of those factors at various times\n",
    "All data from westpac\n",
    "# What the outcome is that you are trying to achieve\n",
    "understand the key drivers of sales so those factors can be upweighted and put less focus on those that \n",
    "have marginal benefit\n",
    "#Any ideas of modelling techniques it may involve\n",
    "Linear regression and other techniques I'm yet to explore"
   ]
  },
  {
   "cell_type": "code",
   "execution_count": null,
   "metadata": {
    "collapsed": true
   },
   "outputs": [],
   "source": [
    "# Number 5 - what are the key drivers of rental returns for apartments in Manly NSW 2095\n",
    "# Overview of your idea \n",
    "Understand what really drives rents - bedrooms, bathrooms, parking, balconies, views, proximity to wharf/beach/harbour, \n",
    "ocean side, harbour side, building age, building size (number of apartments in complex), renovated\n",
    "# What data you will use, and how you will collect it\n",
    "rental data from realestate.com.au or domain.com.au\n",
    "I've seen this individually before but not in data tables but havent yet looked.\n",
    "# What the outcome is that you are trying to achieve\n",
    "understand the key drivers of rents for when buying an investment apartment\n",
    "#Any ideas of modelling techniques it may involve\n",
    "Linear regression and other techniques I'm yet to explore"
   ]
  }
 ],
 "metadata": {
  "kernelspec": {
   "display_name": "Python 2",
   "language": "python",
   "name": "python2"
  },
  "language_info": {
   "codemirror_mode": {
    "name": "ipython",
    "version": 2
   },
   "file_extension": ".py",
   "mimetype": "text/x-python",
   "name": "python",
   "nbconvert_exporter": "python",
   "pygments_lexer": "ipython2",
   "version": "2.7.13"
  }
 },
 "nbformat": 4,
 "nbformat_minor": 2
}
